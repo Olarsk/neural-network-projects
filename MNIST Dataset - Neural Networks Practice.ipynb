{
 "cells": [
  {
   "cell_type": "code",
   "execution_count": 27,
   "metadata": {},
   "outputs": [],
   "source": [
    "import numpy as np\n",
    "import os\n",
    "import cv2\n",
    "import matplotlib.pyplot as plt\n",
    "from keras.models import Sequential\n",
    "from keras.layers import Dense, Flatten\n",
    "from keras.utils import normalize\n",
    "import tensorflow as tf"
   ]
  },
  {
   "cell_type": "code",
   "execution_count": 28,
   "metadata": {},
   "outputs": [],
   "source": [
    "mnist = tf.keras.datasets.mnist\n",
    "(x_train, y_train), (x_test, y_test) = mnist.load_data()"
   ]
  },
  {
   "cell_type": "code",
   "execution_count": 29,
   "metadata": {},
   "outputs": [],
   "source": [
    "x_train = normalize(x_train, axis = 1)\n",
    "x_test = normalize(x_test, axis=1)"
   ]
  },
  {
   "cell_type": "code",
   "execution_count": 30,
   "metadata": {},
   "outputs": [
    {
     "name": "stdout",
     "output_type": "stream",
     "text": [
      "Epoch 1/100\n",
      "1875/1875 [==============================] - 8s 4ms/step - loss: 0.2618 - accuracy: 0.9232\n",
      "Epoch 2/100\n",
      "1875/1875 [==============================] - 6s 3ms/step - loss: 0.1075 - accuracy: 0.9661\n",
      "Epoch 3/100\n",
      "1875/1875 [==============================] - 7s 4ms/step - loss: 0.0729 - accuracy: 0.9772\n",
      "Epoch 4/100\n",
      "1875/1875 [==============================] - 6s 3ms/step - loss: 0.0542 - accuracy: 0.9824\n",
      "Epoch 5/100\n",
      "1875/1875 [==============================] - 7s 4ms/step - loss: 0.0407 - accuracy: 0.9868\n",
      "Epoch 6/100\n",
      "1875/1875 [==============================] - 7s 3ms/step - loss: 0.0324 - accuracy: 0.9894\n",
      "Epoch 7/100\n",
      "1875/1875 [==============================] - 7s 3ms/step - loss: 0.0257 - accuracy: 0.9912\n",
      "Epoch 8/100\n",
      "1875/1875 [==============================] - 6s 3ms/step - loss: 0.0215 - accuracy: 0.9926\n",
      "Epoch 9/100\n",
      "1875/1875 [==============================] - 7s 4ms/step - loss: 0.0181 - accuracy: 0.9938\n",
      "Epoch 10/100\n",
      "1875/1875 [==============================] - 7s 4ms/step - loss: 0.0156 - accuracy: 0.9947\n",
      "Epoch 11/100\n",
      "1875/1875 [==============================] - 7s 4ms/step - loss: 0.0142 - accuracy: 0.9951\n",
      "Epoch 12/100\n",
      "1875/1875 [==============================] - 7s 4ms/step - loss: 0.0126 - accuracy: 0.9956\n",
      "Epoch 13/100\n",
      "1875/1875 [==============================] - 7s 4ms/step - loss: 0.0114 - accuracy: 0.9960\n",
      "Epoch 14/100\n",
      "1875/1875 [==============================] - 7s 4ms/step - loss: 0.0122 - accuracy: 0.9959\n",
      "Epoch 15/100\n",
      "1875/1875 [==============================] - 8s 4ms/step - loss: 0.0095 - accuracy: 0.9969\n",
      "Epoch 16/100\n",
      "1875/1875 [==============================] - 7s 4ms/step - loss: 0.0105 - accuracy: 0.9964\n",
      "Epoch 17/100\n",
      "1875/1875 [==============================] - 7s 4ms/step - loss: 0.0079 - accuracy: 0.9977\n",
      "Epoch 18/100\n",
      "1875/1875 [==============================] - 7s 4ms/step - loss: 0.0094 - accuracy: 0.9967\n",
      "Epoch 19/100\n",
      "1875/1875 [==============================] - 7s 4ms/step - loss: 0.0074 - accuracy: 0.9975\n",
      "Epoch 20/100\n",
      "1875/1875 [==============================] - 8s 4ms/step - loss: 0.0089 - accuracy: 0.9970\n",
      "Epoch 21/100\n",
      "1875/1875 [==============================] - 7s 4ms/step - loss: 0.0074 - accuracy: 0.9974\n",
      "Epoch 22/100\n",
      "1875/1875 [==============================] - 7s 4ms/step - loss: 0.0059 - accuracy: 0.9980\n",
      "Epoch 23/100\n",
      "1875/1875 [==============================] - 8s 4ms/step - loss: 0.0075 - accuracy: 0.9975\n",
      "Epoch 24/100\n",
      "1875/1875 [==============================] - 8s 4ms/step - loss: 0.0072 - accuracy: 0.9978\n",
      "Epoch 25/100\n",
      "1875/1875 [==============================] - 8s 4ms/step - loss: 0.0070 - accuracy: 0.9978\n",
      "Epoch 26/100\n",
      "1875/1875 [==============================] - 8s 4ms/step - loss: 0.0060 - accuracy: 0.9979\n",
      "Epoch 27/100\n",
      "1875/1875 [==============================] - 7s 4ms/step - loss: 0.0076 - accuracy: 0.9976\n",
      "Epoch 28/100\n",
      "1875/1875 [==============================] - 7s 4ms/step - loss: 0.0067 - accuracy: 0.9980\n",
      "Epoch 29/100\n",
      "1875/1875 [==============================] - 7s 4ms/step - loss: 0.0048 - accuracy: 0.9984\n",
      "Epoch 30/100\n",
      "1875/1875 [==============================] - 7s 4ms/step - loss: 0.0069 - accuracy: 0.9979\n",
      "Epoch 31/100\n",
      "1875/1875 [==============================] - 8s 4ms/step - loss: 0.0046 - accuracy: 0.9985\n",
      "Epoch 32/100\n",
      "1875/1875 [==============================] - 8s 4ms/step - loss: 0.0069 - accuracy: 0.9980\n",
      "Epoch 33/100\n",
      "1875/1875 [==============================] - 8s 4ms/step - loss: 0.0066 - accuracy: 0.9979\n",
      "Epoch 34/100\n",
      "1875/1875 [==============================] - 8s 4ms/step - loss: 0.0057 - accuracy: 0.9983\n",
      "Epoch 35/100\n",
      "1875/1875 [==============================] - 8s 4ms/step - loss: 0.0055 - accuracy: 0.9984\n",
      "Epoch 36/100\n",
      "1875/1875 [==============================] - 8s 4ms/step - loss: 0.0051 - accuracy: 0.9982\n",
      "Epoch 37/100\n",
      "1875/1875 [==============================] - 9s 5ms/step - loss: 0.0052 - accuracy: 0.9985\n",
      "Epoch 38/100\n",
      "1875/1875 [==============================] - 7s 4ms/step - loss: 0.0059 - accuracy: 0.9982\n",
      "Epoch 39/100\n",
      "1875/1875 [==============================] - 6s 3ms/step - loss: 0.0060 - accuracy: 0.9984\n",
      "Epoch 40/100\n",
      "1875/1875 [==============================] - 6s 3ms/step - loss: 0.0061 - accuracy: 0.9983\n",
      "Epoch 41/100\n",
      "1875/1875 [==============================] - 8s 4ms/step - loss: 0.0049 - accuracy: 0.9986\n",
      "Epoch 42/100\n",
      "1875/1875 [==============================] - 6s 3ms/step - loss: 0.0039 - accuracy: 0.9989\n",
      "Epoch 43/100\n",
      "1875/1875 [==============================] - 7s 4ms/step - loss: 0.0077 - accuracy: 0.9978\n",
      "Epoch 44/100\n",
      "1875/1875 [==============================] - 6s 3ms/step - loss: 0.0038 - accuracy: 0.9988\n",
      "Epoch 45/100\n",
      "1875/1875 [==============================] - 7s 4ms/step - loss: 0.0045 - accuracy: 0.9987\n",
      "Epoch 46/100\n",
      "1875/1875 [==============================] - 8s 4ms/step - loss: 0.0048 - accuracy: 0.9985\n",
      "Epoch 47/100\n",
      "1875/1875 [==============================] - 8s 4ms/step - loss: 0.0052 - accuracy: 0.9984\n",
      "Epoch 48/100\n",
      "1875/1875 [==============================] - 8s 4ms/step - loss: 0.0031 - accuracy: 0.9991\n",
      "Epoch 49/100\n",
      "1875/1875 [==============================] - 8s 4ms/step - loss: 0.0061 - accuracy: 0.9984\n",
      "Epoch 50/100\n",
      "1875/1875 [==============================] - 8s 4ms/step - loss: 0.0037 - accuracy: 0.9989\n",
      "Epoch 51/100\n",
      "1875/1875 [==============================] - 8s 4ms/step - loss: 0.0033 - accuracy: 0.9990\n",
      "Epoch 52/100\n",
      "1875/1875 [==============================] - 8s 4ms/step - loss: 0.0057 - accuracy: 0.9984\n",
      "Epoch 53/100\n",
      "1875/1875 [==============================] - 8s 4ms/step - loss: 0.0043 - accuracy: 0.9988\n",
      "Epoch 54/100\n",
      "1875/1875 [==============================] - 10s 5ms/step - loss: 0.0055 - accuracy: 0.9987\n",
      "Epoch 55/100\n",
      "1875/1875 [==============================] - 8s 4ms/step - loss: 0.0034 - accuracy: 0.9989\n",
      "Epoch 56/100\n",
      "1875/1875 [==============================] - 8s 4ms/step - loss: 0.0035 - accuracy: 0.9991\n",
      "Epoch 57/100\n",
      "1875/1875 [==============================] - 8s 4ms/step - loss: 0.0032 - accuracy: 0.9991\n",
      "Epoch 58/100\n",
      "1875/1875 [==============================] - 8s 4ms/step - loss: 0.0038 - accuracy: 0.9989\n",
      "Epoch 59/100\n",
      "1875/1875 [==============================] - 8s 4ms/step - loss: 0.0039 - accuracy: 0.9990\n",
      "Epoch 60/100\n",
      "1875/1875 [==============================] - 8s 4ms/step - loss: 0.0055 - accuracy: 0.9985\n",
      "Epoch 61/100\n",
      "1875/1875 [==============================] - 8s 4ms/step - loss: 0.0031 - accuracy: 0.9990\n",
      "Epoch 62/100\n",
      "1875/1875 [==============================] - 8s 4ms/step - loss: 0.0037 - accuracy: 0.9991\n",
      "Epoch 63/100\n",
      "1875/1875 [==============================] - 8s 4ms/step - loss: 0.0052 - accuracy: 0.9986\n",
      "Epoch 64/100\n",
      "1875/1875 [==============================] - 8s 4ms/step - loss: 0.0029 - accuracy: 0.9992\n",
      "Epoch 65/100\n",
      "1875/1875 [==============================] - 8s 4ms/step - loss: 0.0045 - accuracy: 0.9987\n",
      "Epoch 66/100\n",
      "1875/1875 [==============================] - 8s 4ms/step - loss: 0.0046 - accuracy: 0.9989\n",
      "Epoch 67/100\n",
      "1875/1875 [==============================] - 8s 4ms/step - loss: 0.0027 - accuracy: 0.9994\n",
      "Epoch 68/100\n",
      "1875/1875 [==============================] - 8s 4ms/step - loss: 0.0038 - accuracy: 0.9990\n",
      "Epoch 69/100\n",
      "1875/1875 [==============================] - 8s 4ms/step - loss: 0.0032 - accuracy: 0.9992\n",
      "Epoch 70/100\n",
      "1875/1875 [==============================] - 8s 4ms/step - loss: 0.0042 - accuracy: 0.9989\n",
      "Epoch 71/100\n",
      "1875/1875 [==============================] - 8s 4ms/step - loss: 0.0022 - accuracy: 0.9994\n",
      "Epoch 72/100\n",
      "1875/1875 [==============================] - 8s 4ms/step - loss: 0.0049 - accuracy: 0.9989\n",
      "Epoch 73/100\n",
      "1875/1875 [==============================] - 8s 4ms/step - loss: 0.0038 - accuracy: 0.9990\n",
      "Epoch 74/100\n",
      "1875/1875 [==============================] - 8s 4ms/step - loss: 0.0033 - accuracy: 0.9991\n",
      "Epoch 75/100\n",
      "1875/1875 [==============================] - 8s 4ms/step - loss: 0.0035 - accuracy: 0.9990\n",
      "Epoch 76/100\n",
      "1875/1875 [==============================] - 8s 4ms/step - loss: 0.0030 - accuracy: 0.9991\n",
      "Epoch 77/100\n",
      "1875/1875 [==============================] - 8s 4ms/step - loss: 0.0043 - accuracy: 0.9991\n",
      "Epoch 78/100\n",
      "1875/1875 [==============================] - 8s 4ms/step - loss: 0.0037 - accuracy: 0.9991\n",
      "Epoch 79/100\n",
      "1875/1875 [==============================] - 8s 4ms/step - loss: 0.0028 - accuracy: 0.9992\n",
      "Epoch 80/100\n",
      "1875/1875 [==============================] - 8s 4ms/step - loss: 0.0042 - accuracy: 0.9991\n",
      "Epoch 81/100\n",
      "1875/1875 [==============================] - 9s 5ms/step - loss: 0.0024 - accuracy: 0.9993\n",
      "Epoch 82/100\n",
      "1875/1875 [==============================] - 8s 4ms/step - loss: 0.0049 - accuracy: 0.9990\n",
      "Epoch 83/100\n",
      "1875/1875 [==============================] - 8s 4ms/step - loss: 0.0041 - accuracy: 0.9988\n",
      "Epoch 84/100\n",
      "1875/1875 [==============================] - 8s 4ms/step - loss: 0.0020 - accuracy: 0.9994\n",
      "Epoch 85/100\n",
      "1875/1875 [==============================] - 8s 4ms/step - loss: 0.0047 - accuracy: 0.9988\n",
      "Epoch 86/100\n",
      "1875/1875 [==============================] - 8s 4ms/step - loss: 0.0044 - accuracy: 0.9990\n",
      "Epoch 87/100\n",
      "1875/1875 [==============================] - 8s 4ms/step - loss: 0.0049 - accuracy: 0.9990\n",
      "Epoch 88/100\n",
      "1875/1875 [==============================] - 8s 4ms/step - loss: 0.0034 - accuracy: 0.9993\n",
      "Epoch 89/100\n",
      "1875/1875 [==============================] - 8s 4ms/step - loss: 0.0041 - accuracy: 0.9992\n",
      "Epoch 90/100\n",
      "1875/1875 [==============================] - 8s 4ms/step - loss: 0.0031 - accuracy: 0.9993\n",
      "Epoch 91/100\n",
      "1875/1875 [==============================] - 8s 4ms/step - loss: 0.0033 - accuracy: 0.9994\n",
      "Epoch 92/100\n",
      "1875/1875 [==============================] - 8s 4ms/step - loss: 0.0049 - accuracy: 0.9989\n",
      "Epoch 93/100\n",
      "1875/1875 [==============================] - 9s 5ms/step - loss: 0.0035 - accuracy: 0.9991\n",
      "Epoch 94/100\n",
      "1875/1875 [==============================] - 8s 4ms/step - loss: 0.0034 - accuracy: 0.9992\n",
      "Epoch 95/100\n",
      "1875/1875 [==============================] - 8s 4ms/step - loss: 0.0020 - accuracy: 0.9994\n",
      "Epoch 96/100\n",
      "1875/1875 [==============================] - 8s 4ms/step - loss: 7.4043e-04 - accuracy: 0.9999\n",
      "Epoch 97/100\n",
      "1875/1875 [==============================] - 8s 4ms/step - loss: 0.0047 - accuracy: 0.9989\n",
      "Epoch 98/100\n",
      "1875/1875 [==============================] - 8s 4ms/step - loss: 0.0040 - accuracy: 0.9992\n",
      "Epoch 99/100\n",
      "1875/1875 [==============================] - 8s 4ms/step - loss: 0.0043 - accuracy: 0.9991\n",
      "Epoch 100/100\n",
      "1875/1875 [==============================] - 8s 4ms/step - loss: 0.0037 - accuracy: 0.9992\n"
     ]
    },
    {
     "data": {
      "text/plain": [
       "<keras.callbacks.History at 0x1afba685810>"
      ]
     },
     "execution_count": 30,
     "metadata": {},
     "output_type": "execute_result"
    }
   ],
   "source": [
    "model = Sequential()\n",
    "# Input layer\n",
    "model.add(Flatten(input_shape=(28,28)))\n",
    "# Hidden layers\n",
    "model.add(Dense(128, activation='relu'))\n",
    "model.add(Dense(128, activation='relu'))\n",
    "# Output layer\n",
    "model.add(Dense(10, activation='softmax'))\n",
    "\n",
    "# Compile the model\n",
    "model.compile(optimizer='adam', loss='sparse_categorical_crossentropy', metrics=['accuracy'])\n",
    "# Train the model\n",
    "model.fit(x_train, y_train, epochs=100)"
   ]
  },
  {
   "cell_type": "code",
   "execution_count": 31,
   "metadata": {},
   "outputs": [],
   "source": [
    "model.save('mnist-model.h5')"
   ]
  },
  {
   "cell_type": "code",
   "execution_count": 32,
   "metadata": {},
   "outputs": [],
   "source": [
    "mnist_model = tf.keras.models.load_model('mnist-model.h5')"
   ]
  },
  {
   "cell_type": "code",
   "execution_count": 33,
   "metadata": {},
   "outputs": [
    {
     "name": "stdout",
     "output_type": "stream",
     "text": [
      "313/313 [==============================] - 1s 2ms/step - loss: 0.3095 - accuracy: 0.9783\n"
     ]
    },
    {
     "data": {
      "text/plain": [
       "(0.30952757596969604, 0.9782999753952026)"
      ]
     },
     "execution_count": 33,
     "metadata": {},
     "output_type": "execute_result"
    }
   ],
   "source": [
    "loss, accuracy = mnist_model.evaluate(x_test, y_test)\n",
    "loss, accuracy"
   ]
  },
  {
   "attachments": {},
   "cell_type": "markdown",
   "metadata": {},
   "source": [
    "How does the model work on my paint handwritten numbers?"
   ]
  },
  {
   "cell_type": "code",
   "execution_count": 34,
   "metadata": {},
   "outputs": [
    {
     "name": "stdout",
     "output_type": "stream",
     "text": [
      "1/1 [==============================] - 0s 73ms/step\n",
      "This digit is probably a 2\n"
     ]
    },
    {
     "data": {
      "image/png": "[encoded data removed]",
      "text/plain": [
       "<Figure size 432x288 with 1 Axes>"
      ]
     },
     "metadata": {
      "needs_background": "light"
     },
     "output_type": "display_data"
    },
    {
     "name": "stdout",
     "output_type": "stream",
     "text": [
      "1/1 [==============================] - 0s 28ms/step\n",
      "This digit is probably a 1\n"
     ]
    },
    {
     "data": {
      "image/png": "[encoded data removed]",
      "text/plain": [
       "<Figure size 432x288 with 1 Axes>"
      ]
     },
     "metadata": {
      "needs_background": "light"
     },
     "output_type": "display_data"
    },
    {
     "name": "stdout",
     "output_type": "stream",
     "text": [
      "1/1 [==============================] - 0s 23ms/step\n",
      "This digit is probably a 2\n"
     ]
    },
    {
     "data": {
      "image/png": "[encoded data removed]",
      "text/plain": [
       "<Figure size 432x288 with 1 Axes>"
      ]
     },
     "metadata": {
      "needs_background": "light"
     },
     "output_type": "display_data"
    },
    {
     "name": "stdout",
     "output_type": "stream",
     "text": [
      "1/1 [==============================] - 0s 23ms/step\n",
      "This digit is probably a 3\n"
     ]
    },
    {
     "data": {
      "image/png": "[encoded data removed]",
      "text/plain": [
       "<Figure size 432x288 with 1 Axes>"
      ]
     },
     "metadata": {
      "needs_background": "light"
     },
     "output_type": "display_data"
    },
    {
     "name": "stdout",
     "output_type": "stream",
     "text": [
      "1/1 [==============================] - 0s 23ms/step\n",
      "This digit is probably a 7\n"
     ]
    },
    {
     "data": {
      "image/png": "[encoded data removed]",
      "text/plain": [
       "<Figure size 432x288 with 1 Axes>"
      ]
     },
     "metadata": {
      "needs_background": "light"
     },
     "output_type": "display_data"
    },
    {
     "name": "stdout",
     "output_type": "stream",
     "text": [
      "1/1 [==============================] - 0s 23ms/step\n",
      "This digit is probably a 5\n"
     ]
    },
    {
     "data": {
      "image/png": "[encoded data removed]",
      "text/plain": [
       "<Figure size 432x288 with 1 Axes>"
      ]
     },
     "metadata": {
      "needs_background": "light"
     },
     "output_type": "display_data"
    },
    {
     "name": "stdout",
     "output_type": "stream",
     "text": [
      "1/1 [==============================] - 0s 26ms/step\n",
      "This digit is probably a 6\n"
     ]
    },
    {
     "data": {
      "image/png": "[encoded data removed]",
      "text/plain": [
       "<Figure size 432x288 with 1 Axes>"
      ]
     },
     "metadata": {
      "needs_background": "light"
     },
     "output_type": "display_data"
    },
    {
     "name": "stdout",
     "output_type": "stream",
     "text": [
      "1/1 [==============================] - 0s 26ms/step\n",
      "This digit is probably a 3\n"
     ]
    },
    {
     "data": {
      "image/png": "[encoded data removed]",
      "text/plain": [
       "<Figure size 432x288 with 1 Axes>"
      ]
     },
     "metadata": {
      "needs_background": "light"
     },
     "output_type": "display_data"
    },
    {
     "name": "stdout",
     "output_type": "stream",
     "text": [
      "1/1 [==============================] - 0s 65ms/step\n",
      "This digit is probably a 8\n"
     ]
    },
    {
     "data": {
      "image/png": "[encoded data removed]",
      "text/plain": [
       "<Figure size 432x288 with 1 Axes>"
      ]
     },
     "metadata": {
      "needs_background": "light"
     },
     "output_type": "display_data"
    },
    {
     "name": "stdout",
     "output_type": "stream",
     "text": [
      "1/1 [==============================] - 0s 30ms/step\n",
      "This digit is probably a 6\n"
     ]
    },
    {
     "data": {
      "image/png": "[encoded data removed]",
      "text/plain": [
       "<Figure size 432x288 with 1 Axes>"
      ]
     },
     "metadata": {
      "needs_background": "light"
     },
     "output_type": "display_data"
    }
   ],
   "source": [
    "image_number = 0\n",
    "while os.path.isfile(f\"digits/digit{image_number}.png\"):\n",
    "    try:\n",
    "        img =  cv2.imread(f\"digits/digit{image_number}.png\")[:,:,0]\n",
    "        img = np.invert(np.array([img]))\n",
    "        prediction = mnist_model.predict(img)\n",
    "\n",
    "        print(f\"This digit is probably a {np.argmax(prediction)}\")\n",
    "        plt.imshow(img[0], cmap=plt.cm.binary)\n",
    "        plt.show()\n",
    "    except:\n",
    "        print(\"Error!\")\n",
    "    finally:\n",
    "        image_number += 1"
   ]
  }
 ],
 "metadata": {
  "kernelspec": {
   "display_name": "Python 3",
   "language": "python",
   "name": "python3"
  },
  "language_info": {
   "codemirror_mode": {
    "name": "ipython",
    "version": 3
   },
   "file_extension": ".py",
   "mimetype": "text/x-python",
   "name": "python",
   "nbconvert_exporter": "python",
   "pygments_lexer": "ipython3",
   "version": "3.10.4"
  },
  "orig_nbformat": 4
 },
 "nbformat": 4,
 "nbformat_minor": 2
}
